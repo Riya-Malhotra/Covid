{
 "cells": [
  {
   "cell_type": "code",
   "execution_count": 33,
   "id": "285be80c",
   "metadata": {},
   "outputs": [],
   "source": [
    "import pandas as pd\n",
    "import numpy as np\n",
    "import matplotlib.pyplot as plt\n",
    "import seaborn as sns\n",
    "from sklearn.preprocessing import MinMaxScaler, StandardScaler\n",
    "from sklearn import metrics\n",
    "from sklearn.model_selection import train_test_split, GridSearchCV, RandomizedSearchCV\n",
    "from sklearn.tree import DecisionTreeClassifier\n",
    "from sklearn.ensemble import RandomForestClassifier, BaggingClassifier, AdaBoostClassifier\n",
    "from sklearn.linear_model import LogisticRegression\n",
    "from sklearn import svm\n",
    "from sklearn.neighbors import KNeighborsClassifier\n",
    "from xgboost import XGBClassifier"
   ]
  },
  {
   "cell_type": "code",
   "execution_count": 34,
   "id": "fd81310f",
   "metadata": {},
   "outputs": [],
   "source": [
    "import os"
   ]
  },
  {
   "cell_type": "code",
   "execution_count": 35,
   "id": "c6e6ec6f",
   "metadata": {},
   "outputs": [],
   "source": [
    "os.chdir(r\"C:\\Users\\riama\\Desktop\\Machine_learning\")"
   ]
  },
  {
   "cell_type": "code",
   "execution_count": 36,
   "id": "27550b69",
   "metadata": {},
   "outputs": [],
   "source": [
    "covid=pd.read_csv(\"Covid_Data.csv\")"
   ]
  },
  {
   "cell_type": "code",
   "execution_count": 37,
   "id": "34864ffe",
   "metadata": {},
   "outputs": [
    {
     "data": {
      "text/plain": [
       "(1048575, 21)"
      ]
     },
     "execution_count": 37,
     "metadata": {},
     "output_type": "execute_result"
    }
   ],
   "source": [
    "covid.shape"
   ]
  },
  {
   "cell_type": "code",
   "execution_count": 38,
   "id": "13805c0b",
   "metadata": {},
   "outputs": [],
   "source": [
    "df=covid[covid[\"INTUBED\"].isin([1,2])]"
   ]
  },
  {
   "cell_type": "code",
   "execution_count": 39,
   "id": "4faa3d29",
   "metadata": {},
   "outputs": [
    {
     "name": "stdout",
     "output_type": "stream",
     "text": [
      "<class 'pandas.core.frame.DataFrame'>\n",
      "RangeIndex: 1048575 entries, 0 to 1048574\n",
      "Data columns (total 21 columns):\n",
      " #   Column                Non-Null Count    Dtype \n",
      "---  ------                --------------    ----- \n",
      " 0   USMER                 1048575 non-null  int64 \n",
      " 1   MEDICAL_UNIT          1048575 non-null  int64 \n",
      " 2   SEX                   1048575 non-null  int64 \n",
      " 3   PATIENT_TYPE          1048575 non-null  int64 \n",
      " 4   DATE_DIED             1048575 non-null  object\n",
      " 5   INTUBED               1048575 non-null  int64 \n",
      " 6   PNEUMONIA             1048575 non-null  int64 \n",
      " 7   AGE                   1048575 non-null  int64 \n",
      " 8   PREGNANT              1048575 non-null  int64 \n",
      " 9   DIABETES              1048575 non-null  int64 \n",
      " 10  COPD                  1048575 non-null  int64 \n",
      " 11  ASTHMA                1048575 non-null  int64 \n",
      " 12  INMSUPR               1048575 non-null  int64 \n",
      " 13  HIPERTENSION          1048575 non-null  int64 \n",
      " 14  OTHER_DISEASE         1048575 non-null  int64 \n",
      " 15  CARDIOVASCULAR        1048575 non-null  int64 \n",
      " 16  OBESITY               1048575 non-null  int64 \n",
      " 17  RENAL_CHRONIC         1048575 non-null  int64 \n",
      " 18  TOBACCO               1048575 non-null  int64 \n",
      " 19  CLASIFFICATION_FINAL  1048575 non-null  int64 \n",
      " 20  ICU                   1048575 non-null  int64 \n",
      "dtypes: int64(20), object(1)\n",
      "memory usage: 168.0+ MB\n"
     ]
    }
   ],
   "source": [
    "covid.info()"
   ]
  },
  {
   "cell_type": "code",
   "execution_count": 40,
   "id": "87ea16c3",
   "metadata": {},
   "outputs": [],
   "source": [
    "#df=covid.sample(20000, random_state=0)  #1048575*.3"
   ]
  },
  {
   "cell_type": "code",
   "execution_count": 41,
   "id": "ce64137c",
   "metadata": {},
   "outputs": [
    {
     "data": {
      "text/plain": [
       "(192706, 21)"
      ]
     },
     "execution_count": 41,
     "metadata": {},
     "output_type": "execute_result"
    }
   ],
   "source": [
    "df.shape"
   ]
  },
  {
   "cell_type": "code",
   "execution_count": 42,
   "id": "23022f2b",
   "metadata": {},
   "outputs": [
    {
     "data": {
      "text/plain": [
       "3    105932\n",
       "7     60496\n",
       "6     16844\n",
       "5      4995\n",
       "1      2182\n",
       "2      1665\n",
       "4       592\n",
       "Name: CLASIFFICATION_FINAL, dtype: int64"
      ]
     },
     "execution_count": 42,
     "metadata": {},
     "output_type": "execute_result"
    }
   ],
   "source": [
    "df[\"CLASIFFICATION_FINAL\"].value_counts()"
   ]
  },
  {
   "cell_type": "code",
   "execution_count": 43,
   "id": "1b4500d9",
   "metadata": {},
   "outputs": [
    {
     "name": "stderr",
     "output_type": "stream",
     "text": [
      "C:\\Users\\riama\\AppData\\Local\\Temp\\ipykernel_8632\\3356703027.py:1: SettingWithCopyWarning: \n",
      "A value is trying to be set on a copy of a slice from a DataFrame.\n",
      "Try using .loc[row_indexer,col_indexer] = value instead\n",
      "\n",
      "See the caveats in the documentation: https://pandas.pydata.org/pandas-docs/stable/user_guide/indexing.html#returning-a-view-versus-a-copy\n",
      "  df[\"Covid\"]=np.where(df[\"CLASIFFICATION_FINAL\"].isin([1,2,3]),1,0)\n"
     ]
    }
   ],
   "source": [
    "df[\"Covid\"]=np.where(df[\"CLASIFFICATION_FINAL\"].isin([1,2,3]),1,0)"
   ]
  },
  {
   "cell_type": "code",
   "execution_count": 44,
   "id": "85768749",
   "metadata": {},
   "outputs": [
    {
     "data": {
      "text/plain": [
       "1    0.569671\n",
       "0    0.430329\n",
       "Name: Covid, dtype: float64"
      ]
     },
     "execution_count": 44,
     "metadata": {},
     "output_type": "execute_result"
    }
   ],
   "source": [
    "df[\"Covid\"].value_counts(normalize=True)"
   ]
  },
  {
   "cell_type": "code",
   "execution_count": 45,
   "id": "2c5ea92b",
   "metadata": {},
   "outputs": [
    {
     "name": "stderr",
     "output_type": "stream",
     "text": [
      "C:\\Users\\riama\\AppData\\Local\\Temp\\ipykernel_8632\\2330101161.py:1: SettingWithCopyWarning: \n",
      "A value is trying to be set on a copy of a slice from a DataFrame\n",
      "\n",
      "See the caveats in the documentation: https://pandas.pydata.org/pandas-docs/stable/user_guide/indexing.html#returning-a-view-versus-a-copy\n",
      "  df.drop(columns=[\"CLASIFFICATION_FINAL\"],inplace=True)\n"
     ]
    }
   ],
   "source": [
    "df.drop(columns=[\"CLASIFFICATION_FINAL\"],inplace=True)"
   ]
  },
  {
   "cell_type": "code",
   "execution_count": 46,
   "id": "7ca36c00",
   "metadata": {},
   "outputs": [
    {
     "name": "stdout",
     "output_type": "stream",
     "text": [
      "<class 'pandas.core.frame.DataFrame'>\n",
      "Int64Index: 192706 entries, 2 to 1048571\n",
      "Data columns (total 21 columns):\n",
      " #   Column          Non-Null Count   Dtype \n",
      "---  ------          --------------   ----- \n",
      " 0   USMER           192706 non-null  int64 \n",
      " 1   MEDICAL_UNIT    192706 non-null  int64 \n",
      " 2   SEX             192706 non-null  int64 \n",
      " 3   PATIENT_TYPE    192706 non-null  int64 \n",
      " 4   DATE_DIED       192706 non-null  object\n",
      " 5   INTUBED         192706 non-null  int64 \n",
      " 6   PNEUMONIA       192706 non-null  int64 \n",
      " 7   AGE             192706 non-null  int64 \n",
      " 8   PREGNANT        192706 non-null  int64 \n",
      " 9   DIABETES        192706 non-null  int64 \n",
      " 10  COPD            192706 non-null  int64 \n",
      " 11  ASTHMA          192706 non-null  int64 \n",
      " 12  INMSUPR         192706 non-null  int64 \n",
      " 13  HIPERTENSION    192706 non-null  int64 \n",
      " 14  OTHER_DISEASE   192706 non-null  int64 \n",
      " 15  CARDIOVASCULAR  192706 non-null  int64 \n",
      " 16  OBESITY         192706 non-null  int64 \n",
      " 17  RENAL_CHRONIC   192706 non-null  int64 \n",
      " 18  TOBACCO         192706 non-null  int64 \n",
      " 19  ICU             192706 non-null  int64 \n",
      " 20  Covid           192706 non-null  int32 \n",
      "dtypes: int32(1), int64(19), object(1)\n",
      "memory usage: 31.6+ MB\n"
     ]
    }
   ],
   "source": [
    "df.info()"
   ]
  },
  {
   "cell_type": "code",
   "execution_count": 47,
   "id": "a79acf58",
   "metadata": {},
   "outputs": [
    {
     "name": "stderr",
     "output_type": "stream",
     "text": [
      "C:\\Users\\riama\\AppData\\Local\\Temp\\ipykernel_8632\\2676891469.py:1: SettingWithCopyWarning: \n",
      "A value is trying to be set on a copy of a slice from a DataFrame\n",
      "\n",
      "See the caveats in the documentation: https://pandas.pydata.org/pandas-docs/stable/user_guide/indexing.html#returning-a-view-versus-a-copy\n",
      "  df.drop(columns=[\"DATE_DIED\"],inplace=True) #10:30 ke karib vedio dekho\n"
     ]
    }
   ],
   "source": [
    "df.drop(columns=[\"DATE_DIED\"],inplace=True) #10:30 ke karib vedio dekho"
   ]
  },
  {
   "cell_type": "code",
   "execution_count": 48,
   "id": "26b22f64",
   "metadata": {},
   "outputs": [],
   "source": [
    "def univar(data,y):\n",
    "    unique_count= data[y].nunique()\n",
    "    missing= data[y].isnull().sum()\n",
    "    unique_cat= list(data[y].unique())\n",
    "    f1=pd.DataFrame(data[y].value_counts(dropna=False))\n",
    "    f1.rename(columns={y:\"Count\"},inplace=True)\n",
    "    f2=pd.DataFrame(data[y].value_counts(normalize=True))\n",
    "    f2.rename(columns={y:\"percentage\"},inplace=True)\n",
    "    f2[\"percentage\"]=round(f2[\"percentage\"]*100,2)  #(f2[\"percentage\"]*100).round(2).astype(str)+\"%\" (if we want to add percentage\n",
    "                                                    #then we have to convert it to string then will add %symbol)\n",
    "    ff=pd.concat([f1,f2],axis=1)\n",
    "    \n",
    "    myvalue= {\"missing\":missing,\"unique category\": unique_cat,\"unique_count\":unique_count}\n",
    "    print(f\"value count and %\\n\",ff)\n",
    "    sns.countplot(data=data,x=y)\n",
    "    return myvalue"
   ]
  },
  {
   "cell_type": "code",
   "execution_count": 49,
   "id": "853c2c0f",
   "metadata": {},
   "outputs": [],
   "source": [
    "def univar_num(y):\n",
    "    missing= y.isnull().sum()\n",
    "    min1=round(y.min(),2)\n",
    "    max1=round(y.max(),2)\n",
    "    mean=round(y.mean(),2)\n",
    "    var=round(y.var(),2)\n",
    "    std=round(y.std(),2)\n",
    "    range1=round(max1-min1,2)\n",
    "    q1= round(y.quantile(.25),2)\n",
    "    q2=round(y.quantile(.5),2)\n",
    "    q3=round(y.quantile(.75),2)\n",
    "    skew=round(y.skew(),2)\n",
    "    kurt=round(y.kurt(),2)\n",
    "    myval={\"Missing Value\":missing,\"Minimum value\": min1,\"Maximum value\": max1, \"Mean value\": mean,\"Variance\": var,\"Standard Deviation\": std,\"Range\": range1,\n",
    "          \"Quantile1\":q1,\"Quantile2\": q2,\"Quantile3\":q3,\"Skewness\": skew,\"kurtosis\":kurt}\n",
    "    sns.histplot(y)\n",
    "    plt.show()\n",
    "    sns.boxplot(data=df,y=y)\n",
    "    plt.show()\n",
    "    return myval"
   ]
  },
  {
   "cell_type": "code",
   "execution_count": 50,
   "id": "9bd62bf7",
   "metadata": {},
   "outputs": [
    {
     "name": "stdout",
     "output_type": "stream",
     "text": [
      "value count and %\n",
      "     Count  percentage\n",
      "1  105312       54.65\n",
      "2   87394       45.35\n"
     ]
    },
    {
     "data": {
      "text/plain": [
       "{'missing': 0, 'unique category': [2, 1], 'unique_count': 2}"
      ]
     },
     "execution_count": 50,
     "metadata": {},
     "output_type": "execute_result"
    },
    {
     "data": {
      "image/png": "[encoded data removed]",
      "text/plain": [
       "<Figure size 432x288 with 1 Axes>"
      ]
     },
     "metadata": {
      "needs_background": "light"
     },
     "output_type": "display_data"
    }
   ],
   "source": [
    "univar(df,\"USMER\")"
   ]
  },
  {
   "cell_type": "code",
   "execution_count": 51,
   "id": "f0423bc8",
   "metadata": {},
   "outputs": [
    {
     "name": "stdout",
     "output_type": "stream",
     "text": [
      "value count and %\n",
      "     Count  percentage\n",
      "4   88028       45.68\n",
      "12  66332       34.42\n",
      "6   14762        7.66\n",
      "9    8858        4.60\n",
      "3    4102        2.13\n",
      "10   3588        1.86\n",
      "8    3412        1.77\n",
      "5    1701        0.88\n",
      "11   1318        0.68\n",
      "7     293        0.15\n",
      "13    247        0.13\n",
      "2      41        0.02\n",
      "1      24        0.01\n"
     ]
    },
    {
     "data": {
      "text/plain": [
       "{'missing': 0,\n",
       " 'unique category': [1, 2, 3, 4, 5, 6, 7, 8, 9, 10, 11, 12, 13],\n",
       " 'unique_count': 13}"
      ]
     },
     "execution_count": 51,
     "metadata": {},
     "output_type": "execute_result"
    },
    {
     "data": {
      "image/png": "[encoded data removed]",
      "text/plain": [
       "<Figure size 432x288 with 1 Axes>"
      ]
     },
     "metadata": {
      "needs_background": "light"
     },
     "output_type": "display_data"
    }
   ],
   "source": [
    "univar(df,\"MEDICAL_UNIT\")"
   ]
  },
  {
   "cell_type": "code",
   "execution_count": 52,
   "id": "d03ad8b9",
   "metadata": {},
   "outputs": [
    {
     "data": {
      "text/plain": [
       "Index(['USMER', 'MEDICAL_UNIT', 'SEX', 'PATIENT_TYPE', 'INTUBED', 'PNEUMONIA',\n",
       "       'AGE', 'PREGNANT', 'DIABETES', 'COPD', 'ASTHMA', 'INMSUPR',\n",
       "       'HIPERTENSION', 'OTHER_DISEASE', 'CARDIOVASCULAR', 'OBESITY',\n",
       "       'RENAL_CHRONIC', 'TOBACCO', 'ICU', 'Covid'],\n",
       "      dtype='object')"
      ]
     },
     "execution_count": 52,
     "metadata": {},
     "output_type": "execute_result"
    }
   ],
   "source": [
    "df.columns"
   ]
  },
  {
   "cell_type": "code",
   "execution_count": 53,
   "id": "aeb36a77",
   "metadata": {},
   "outputs": [
    {
     "name": "stdout",
     "output_type": "stream",
     "text": [
      "value count and %\n",
      "     Count  percentage\n",
      "2  159050       82.54\n",
      "1   33656       17.46\n"
     ]
    },
    {
     "data": {
      "text/plain": [
       "{'missing': 0, 'unique category': [1, 2], 'unique_count': 2}"
      ]
     },
     "execution_count": 53,
     "metadata": {},
     "output_type": "execute_result"
    },
    {
     "data": {
      "image/png": "[encoded data removed]",
      "text/plain": [
       "<Figure size 432x288 with 1 Axes>"
      ]
     },
     "metadata": {
      "needs_background": "light"
     },
     "output_type": "display_data"
    }
   ],
   "source": [
    "# 'SEX', 'PATIENT_TYPE', 'INTUBED', 'PNEUMONIA',\n",
    "#        'AGE', 'PREGNANT', 'DIABETES', 'COPD', 'ASTHMA', 'INMSUPR',\n",
    "#        'HIPERTENSION', 'OTHER_DISEASE', 'CARDIOVASCULAR', 'OBESITY',\n",
    "#        'RENAL_CHRONIC', 'TOBACCO', 'ICU', 'Covid'\n",
    "univar(df,\"INTUBED\")"
   ]
  },
  {
   "cell_type": "code",
   "execution_count": 54,
   "id": "0972c543",
   "metadata": {},
   "outputs": [
    {
     "name": "stderr",
     "output_type": "stream",
     "text": [
      "C:\\Users\\riama\\AppData\\Local\\Temp\\ipykernel_8632\\298574452.py:1: SettingWithCopyWarning: \n",
      "A value is trying to be set on a copy of a slice from a DataFrame.\n",
      "Try using .loc[row_indexer,col_indexer] = value instead\n",
      "\n",
      "See the caveats in the documentation: https://pandas.pydata.org/pandas-docs/stable/user_guide/indexing.html#returning-a-view-versus-a-copy\n",
      "  df[\"INTUBED\"]=df[\"INTUBED\"].replace([97,99],3)\n"
     ]
    }
   ],
   "source": [
    "df[\"INTUBED\"]=df[\"INTUBED\"].replace([97,99],3)"
   ]
  },
  {
   "cell_type": "code",
   "execution_count": 55,
   "id": "8ce96770",
   "metadata": {},
   "outputs": [
    {
     "data": {
      "text/plain": [
       "2    159050\n",
       "1     33656\n",
       "Name: INTUBED, dtype: int64"
      ]
     },
     "execution_count": 55,
     "metadata": {},
     "output_type": "execute_result"
    }
   ],
   "source": [
    "df[\"INTUBED\"].value_counts()"
   ]
  },
  {
   "cell_type": "code",
   "execution_count": 56,
   "id": "7ec0cef7",
   "metadata": {},
   "outputs": [],
   "source": [
    "#df[\"INTUBED_missing\"]=np.where(df[\"INTUBED\"].isin([1,2]),0,1) #1 is for missing values(3 vale), 0 is for 1 and 2"
   ]
  },
  {
   "cell_type": "code",
   "execution_count": 58,
   "id": "3e6db921",
   "metadata": {},
   "outputs": [],
   "source": [
    "#df[\"INTUBED_missing\"].value_counts()"
   ]
  },
  {
   "cell_type": "code",
   "execution_count": 59,
   "id": "a4a7ca9a",
   "metadata": {},
   "outputs": [
    {
     "name": "stdout",
     "output_type": "stream",
     "text": [
      "value count and %\n",
      "     Count  percentage\n",
      "1  116013        60.2\n",
      "2   76693        39.8\n"
     ]
    },
    {
     "data": {
      "text/plain": [
       "{'missing': 0, 'unique category': [2, 1], 'unique_count': 2}"
      ]
     },
     "execution_count": 59,
     "metadata": {},
     "output_type": "execute_result"
    },
    {
     "data": {
      "image/png": "[encoded data removed]",
      "text/plain": [
       "<Figure size 432x288 with 1 Axes>"
      ]
     },
     "metadata": {
      "needs_background": "light"
     },
     "output_type": "display_data"
    }
   ],
   "source": [
    "univar(df,\"PNEUMONIA\")"
   ]
  },
  {
   "cell_type": "code",
   "execution_count": 60,
   "id": "3c12d772",
   "metadata": {},
   "outputs": [
    {
     "name": "stdout",
     "output_type": "stream",
     "text": [
      "value count and %\n",
      "     Count  percentage\n",
      "2  192706       100.0\n"
     ]
    },
    {
     "data": {
      "text/plain": [
       "{'missing': 0, 'unique category': [2], 'unique_count': 1}"
      ]
     },
     "execution_count": 60,
     "metadata": {},
     "output_type": "execute_result"
    },
    {
     "data": {
      "image/png": "[encoded data removed]",
      "text/plain": [
       "<Figure size 432x288 with 1 Axes>"
      ]
     },
     "metadata": {
      "needs_background": "light"
     },
     "output_type": "display_data"
    }
   ],
   "source": [
    "univar(df,\"PATIENT_TYPE\")"
   ]
  },
  {
   "cell_type": "code",
   "execution_count": 61,
   "id": "8b1c998c",
   "metadata": {},
   "outputs": [
    {
     "name": "stdout",
     "output_type": "stream",
     "text": [
      "value count and %\n",
      "      Count  percentage\n",
      "97  114463       59.40\n",
      "2    76108       39.49\n",
      "1     1806        0.94\n",
      "98     329        0.17\n"
     ]
    },
    {
     "data": {
      "text/plain": [
       "{'missing': 0, 'unique category': [97, 2, 98, 1], 'unique_count': 4}"
      ]
     },
     "execution_count": 61,
     "metadata": {},
     "output_type": "execute_result"
    },
    {
     "data": {
      "image/png": "[encoded data removed]",
      "text/plain": [
       "<Figure size 432x288 with 1 Axes>"
      ]
     },
     "metadata": {
      "needs_background": "light"
     },
     "output_type": "display_data"
    }
   ],
   "source": [
    "univar(df, \"PREGNANT\")"
   ]
  },
  {
   "cell_type": "code",
   "execution_count": 62,
   "id": "10edf12b",
   "metadata": {},
   "outputs": [
    {
     "data": {
      "text/plain": [
       "SEX  PREGNANT\n",
       "1    1             1806\n",
       "     2            76108\n",
       "     98             329\n",
       "2    97          114463\n",
       "Name: USMER, dtype: int64"
      ]
     },
     "execution_count": 62,
     "metadata": {},
     "output_type": "execute_result"
    }
   ],
   "source": [
    "df.groupby([\"SEX\",\"PREGNANT\"])[\"USMER\"].count()"
   ]
  },
  {
   "cell_type": "code",
   "execution_count": 63,
   "id": "b78afddd",
   "metadata": {},
   "outputs": [
    {
     "name": "stderr",
     "output_type": "stream",
     "text": [
      "C:\\Users\\riama\\AppData\\Local\\Temp\\ipykernel_8632\\4103353465.py:1: SettingWithCopyWarning: \n",
      "A value is trying to be set on a copy of a slice from a DataFrame.\n",
      "Try using .loc[row_indexer,col_indexer] = value instead\n",
      "\n",
      "See the caveats in the documentation: https://pandas.pydata.org/pandas-docs/stable/user_guide/indexing.html#returning-a-view-versus-a-copy\n",
      "  df[\"PREGNANT\"]=df[\"PREGNANT\"].replace([2,98,97],0)\n"
     ]
    }
   ],
   "source": [
    "df[\"PREGNANT\"]=df[\"PREGNANT\"].replace([2,98,97],0)"
   ]
  },
  {
   "cell_type": "code",
   "execution_count": 64,
   "id": "b7ea7508",
   "metadata": {},
   "outputs": [
    {
     "data": {
      "text/plain": [
       "0    190900\n",
       "1      1806\n",
       "Name: PREGNANT, dtype: int64"
      ]
     },
     "execution_count": 64,
     "metadata": {},
     "output_type": "execute_result"
    }
   ],
   "source": [
    "df[\"PREGNANT\"].value_counts() #1 who are pregnant 0 are not pregnant"
   ]
  },
  {
   "cell_type": "code",
   "execution_count": 65,
   "id": "928d0c17",
   "metadata": {},
   "outputs": [
    {
     "name": "stdout",
     "output_type": "stream",
     "text": [
      "value count and %\n",
      "      Count  percentage\n",
      "2   135258       70.19\n",
      "1    56277       29.20\n",
      "98    1171        0.61\n"
     ]
    },
    {
     "data": {
      "text/plain": [
       "{'missing': 0, 'unique category': [1, 2, 98], 'unique_count': 3}"
      ]
     },
     "execution_count": 65,
     "metadata": {},
     "output_type": "execute_result"
    },
    {
     "data": {
      "image/png": "[encoded data removed]",
      "text/plain": [
       "<Figure size 432x288 with 1 Axes>"
      ]
     },
     "metadata": {
      "needs_background": "light"
     },
     "output_type": "display_data"
    }
   ],
   "source": [
    "univar(df,\"DIABETES\")"
   ]
  },
  {
   "cell_type": "code",
   "execution_count": 67,
   "id": "09ae79da",
   "metadata": {},
   "outputs": [],
   "source": [
    "df=df[(df[\"DIABETES\"]==1)| (df[\"DIABETES\"]==2)] #Removing 98 vale as they are missing"
   ]
  },
  {
   "cell_type": "code",
   "execution_count": 68,
   "id": "55eb7db3",
   "metadata": {},
   "outputs": [
    {
     "name": "stdout",
     "output_type": "stream",
     "text": [
      "value count and %\n",
      "     Count  percentage\n",
      "2  135258       70.62\n",
      "1   56277       29.38\n"
     ]
    },
    {
     "data": {
      "text/plain": [
       "{'missing': 0, 'unique category': [1, 2], 'unique_count': 2}"
      ]
     },
     "execution_count": 68,
     "metadata": {},
     "output_type": "execute_result"
    },
    {
     "data": {
      "image/png": "[encoded data removed]",
      "text/plain": [
       "<Figure size 432x288 with 1 Axes>"
      ]
     },
     "metadata": {
      "needs_background": "light"
     },
     "output_type": "display_data"
    }
   ],
   "source": [
    "univar(df,\"DIABETES\")"
   ]
  },
  {
   "cell_type": "code",
   "execution_count": 69,
   "id": "e3eaf88e",
   "metadata": {},
   "outputs": [
    {
     "name": "stdout",
     "output_type": "stream",
     "text": [
      "value count and %\n",
      "      Count  percentage\n",
      "2   183239       95.67\n",
      "1     8147        4.25\n",
      "98     149        0.08\n"
     ]
    },
    {
     "data": {
      "text/plain": [
       "{'missing': 0, 'unique category': [2, 1, 98], 'unique_count': 3}"
      ]
     },
     "execution_count": 69,
     "metadata": {},
     "output_type": "execute_result"
    },
    {
     "data": {
      "image/png": "[encoded data removed]",
      "text/plain": [
       "<Figure size 432x288 with 1 Axes>"
      ]
     },
     "metadata": {
      "needs_background": "light"
     },
     "output_type": "display_data"
    }
   ],
   "source": [
    "# 'USMER', 'MEDICAL_UNIT', 'SEX', 'PATIENT_TYPE', 'INTUBED', 'PNEUMONIA',\n",
    "#        'AGE', 'PREGNANT', 'DIABETES', 'COPD', 'ASTHMA', 'INMSUPR',\n",
    "#        'HIPERTENSION', 'OTHER_DISEASE', 'CARDIOVASCULAR', 'OBESITY',\n",
    "#        'RENAL_CHRONIC', 'TOBACCO', 'ICU', 'Covid'\n",
    "univar(df,\"COPD\")"
   ]
  },
  {
   "cell_type": "code",
   "execution_count": 70,
   "id": "9f5bf775",
   "metadata": {},
   "outputs": [],
   "source": [
    "df=df[(df[\"COPD\"]==1)| (df[\"COPD\"]==2)]"
   ]
  },
  {
   "cell_type": "code",
   "execution_count": 71,
   "id": "b39bcc83",
   "metadata": {},
   "outputs": [
    {
     "name": "stdout",
     "output_type": "stream",
     "text": [
      "value count and %\n",
      "      Count  percentage\n",
      "2   186557       97.48\n",
      "1     4760        2.49\n",
      "98      69        0.04\n"
     ]
    },
    {
     "data": {
      "text/plain": [
       "{'missing': 0, 'unique category': [2, 1, 98], 'unique_count': 3}"
      ]
     },
     "execution_count": 71,
     "metadata": {},
     "output_type": "execute_result"
    },
    {
     "data": {
      "image/png": "[encoded data removed]",
      "text/plain": [
       "<Figure size 432x288 with 1 Axes>"
      ]
     },
     "metadata": {
      "needs_background": "light"
     },
     "output_type": "display_data"
    }
   ],
   "source": [
    "univar(df,\"ASTHMA\")"
   ]
  },
  {
   "cell_type": "code",
   "execution_count": 72,
   "id": "531ca662",
   "metadata": {},
   "outputs": [],
   "source": [
    "df=df[(df[\"ASTHMA\"]==1)| (df[\"ASTHMA\"]==2)]"
   ]
  },
  {
   "cell_type": "code",
   "execution_count": 75,
   "id": "1ee0915c",
   "metadata": {},
   "outputs": [],
   "source": [
    "#INMSUPR',\n",
    "#        'HIPERTENSION', 'OTHER_DISEASE', 'CARDIOVASCULAR', 'OBESITY',\n",
    "#        'RENAL_CHRONIC', 'TOBACCO', 'ICU', 'Covid'\n",
    "df=df[(df[\"INMSUPR\"]==1)| (df[\"INMSUPR\"]==2)]\n",
    "df=df[(df[\"HIPERTENSION\"]==1)| (df[\"HIPERTENSION\"]==2)]\n",
    "df=df[(df[\"OTHER_DISEASE\"]==1)| (df[\"OTHER_DISEASE\"]==2)]\n",
    "df=df[(df[\"CARDIOVASCULAR\"]==1)| (df[\"CARDIOVASCULAR\"]==2)]\n",
    "df=df[(df[\"OBESITY\"]==1)| (df[\"OBESITY\"]==2)]\n",
    "df=df[(df[\"RENAL_CHRONIC\"]==1)| (df[\"RENAL_CHRONIC\"]==2)]\n",
    "df=df[(df[\"TOBACCO\"]==1)| (df[\"TOBACCO\"]==2)]\n",
    "df=df[(df[\"ICU\"]==1)| (df[\"ICU\"]==2)]\n"
   ]
  },
  {
   "cell_type": "code",
   "execution_count": 80,
   "id": "d2611894",
   "metadata": {},
   "outputs": [],
   "source": [
    "# PATIENT_TYPE', 'INTPATIENT_TYPEUBED', 'PNEUMONIA',\n",
    "#        'AGE', 'PREGNANT', 'DIABETES', 'COPD', 'ASTHMA', 'INMSUPR',\n",
    "#        'HIPERTENSION', 'OTHER_DISEASE', 'CARDIOVASCULAR', 'OBESITY',\n",
    "#        'RENAL_CHRONIC', 'TOBACCO', 'ICU'\n",
    "df[\"SEX\"]=df[\"SEX\"].replace([2],0)\n",
    "df[\"PATIENT_TYPE\"]=df[\"PATIENT_TYPE\"].replace([2],0)\n",
    "\n",
    "df[\"PNEUMONIA\"]=df[\"PNEUMONIA\"].replace([2],0)\n",
    "df[\"PREGNANT\"]=df[\"PREGNANT\"].replace([2],0)\n",
    "df[\"DIABETES\"]=df[\"DIABETES\"].replace([2],0)\n",
    "df[\"COPD\"]=df[\"COPD\"].replace([2],0)\n",
    "df[\"ASTHMA\"]=df[\"ASTHMA\"].replace([2],0)\n",
    "df[\"INMSUPR\"]=df[\"INMSUPR\"].replace([2],0)\n",
    "df[\"HIPERTENSION\"]=df[\"HIPERTENSION\"].replace([2],0)\n",
    "df[\"OTHER_DISEASE\"]=df[\"OTHER_DISEASE\"].replace([2],0)\n",
    "df[\"CARDIOVASCULAR\"]=df[\"CARDIOVASCULAR\"].replace([2],0)\n",
    "df[\"OBESITY\"]=df[\"OBESITY\"].replace([2],0)\n",
    "df[\"RENAL_CHRONIC\"]=df[\"RENAL_CHRONIC\"].replace([2],0)\n",
    "df[\"TOBACCO\"]=df[\"TOBACCO\"].replace([2],0)\n"
   ]
  },
  {
   "cell_type": "code",
   "execution_count": 78,
   "id": "310056e0",
   "metadata": {},
   "outputs": [
    {
     "data": {
      "text/plain": [
       "Index(['USMER', 'MEDICAL_UNIT', 'SEX', 'PATIENT_TYPE', 'INTUBED', 'PNEUMONIA',\n",
       "       'AGE', 'PREGNANT', 'DIABETES', 'COPD', 'ASTHMA', 'INMSUPR',\n",
       "       'HIPERTENSION', 'OTHER_DISEASE', 'CARDIOVASCULAR', 'OBESITY',\n",
       "       'RENAL_CHRONIC', 'TOBACCO', 'ICU', 'Covid'],\n",
       "      dtype='object')"
      ]
     },
     "execution_count": 78,
     "metadata": {},
     "output_type": "execute_result"
    }
   ],
   "source": [
    "df.columns"
   ]
  },
  {
   "cell_type": "code",
   "execution_count": 89,
   "id": "e12348d8",
   "metadata": {},
   "outputs": [],
   "source": [
    "y=df[\"Covid\"]\n",
    "x=df.drop(columns=[\"Covid\"])"
   ]
  },
  {
   "cell_type": "code",
   "execution_count": 106,
   "id": "8296aaa0",
   "metadata": {},
   "outputs": [],
   "source": [
    "def model_dev(x,y,test_s,model):\n",
    "    x_train,x_test,y_train,y_test=train_test_split(x,y,test_size=test_s,random_state=0)\n",
    "    model.fit(x_train,y_train)\n",
    "    \n",
    "    pred_train=model.predict(x_train)\n",
    "    pred_test=model.predict(x_test)\n",
    "    \n",
    "    tr_acc=metrics.accuracy_score(pred_train,y_train)\n",
    "    tt_acc=metrics.accuracy_score(pred_test,y_test)\n",
    "    \n",
    "    tr_recall= metrics.recall_score(pred_train,y_train)\n",
    "    tt_recall=metrics.recall_score(pred_test,y_test)\n",
    "    \n",
    "    tr_precision= metrics.precision_score(pred_train,y_train)\n",
    "    tt_precision= metrics.precision_score(pred_test,y_test)\n",
    "    output={\"Accuracy_train\":tr_acc, \"Accuracy_test\": tt_acc,\n",
    "           \"Recall_train\": tr_recall,\"Recall_test\": tt_recall,\n",
    "           \"Precision_train\": tr_precision,\"Precision_test\": tt_precision}\n",
    "    return output"
   ]
  },
  {
   "cell_type": "code",
   "execution_count": 107,
   "id": "2c621204",
   "metadata": {},
   "outputs": [],
   "source": [
    "log=LogisticRegression(max_iter=100000)"
   ]
  },
  {
   "cell_type": "code",
   "execution_count": 108,
   "id": "a425c8f8",
   "metadata": {},
   "outputs": [],
   "source": [
    "logistic_basic=model_dev(x,y,.7,log)"
   ]
  },
  {
   "cell_type": "code",
   "execution_count": 109,
   "id": "3642da48",
   "metadata": {},
   "outputs": [
    {
     "data": {
      "text/plain": [
       "{'Accuracy_train': 0.6335472527472528,\n",
       " 'Accuracy_test': 0.6331050176699746,\n",
       " 'Recall_train': 0.6450048256576505,\n",
       " 'Recall_test': 0.6431454817075108,\n",
       " 'Precision_train': 0.8004668161297257,\n",
       " 'Precision_test': 0.8017487320371935}"
      ]
     },
     "execution_count": 109,
     "metadata": {},
     "output_type": "execute_result"
    }
   ],
   "source": [
    "logistic_basic"
   ]
  },
  {
   "cell_type": "code",
   "execution_count": 110,
   "id": "ef4ca6f2",
   "metadata": {},
   "outputs": [
    {
     "data": {
      "text/html": [
       "<div>\n",
       "<style scoped>\n",
       "    .dataframe tbody tr th:only-of-type {\n",
       "        vertical-align: middle;\n",
       "    }\n",
       "\n",
       "    .dataframe tbody tr th {\n",
       "        vertical-align: top;\n",
       "    }\n",
       "\n",
       "    .dataframe thead th {\n",
       "        text-align: right;\n",
       "    }\n",
       "</style>\n",
       "<table border=\"1\" class=\"dataframe\">\n",
       "  <thead>\n",
       "    <tr style=\"text-align: right;\">\n",
       "      <th></th>\n",
       "      <th>0</th>\n",
       "    </tr>\n",
       "  </thead>\n",
       "  <tbody>\n",
       "    <tr>\n",
       "      <th>Accuracy_train</th>\n",
       "      <td>0.633547</td>\n",
       "    </tr>\n",
       "    <tr>\n",
       "      <th>Accuracy_test</th>\n",
       "      <td>0.633105</td>\n",
       "    </tr>\n",
       "    <tr>\n",
       "      <th>Recall_train</th>\n",
       "      <td>0.645005</td>\n",
       "    </tr>\n",
       "    <tr>\n",
       "      <th>Recall_test</th>\n",
       "      <td>0.643145</td>\n",
       "    </tr>\n",
       "    <tr>\n",
       "      <th>Precision_train</th>\n",
       "      <td>0.800467</td>\n",
       "    </tr>\n",
       "    <tr>\n",
       "      <th>Precision_test</th>\n",
       "      <td>0.801749</td>\n",
       "    </tr>\n",
       "  </tbody>\n",
       "</table>\n",
       "</div>"
      ],
      "text/plain": [
       "                        0\n",
       "Accuracy_train   0.633547\n",
       "Accuracy_test    0.633105\n",
       "Recall_train     0.645005\n",
       "Recall_test      0.643145\n",
       "Precision_train  0.800467\n",
       "Precision_test   0.801749"
      ]
     },
     "execution_count": 110,
     "metadata": {},
     "output_type": "execute_result"
    }
   ],
   "source": [
    "pd.DataFrame.from_dict(logistic_basic,orient=\"index\")"
   ]
  },
  {
   "cell_type": "code",
   "execution_count": 111,
   "id": "482fb26b",
   "metadata": {},
   "outputs": [],
   "source": [
    "knn=KNeighborsClassifier(n_neighbors=3)"
   ]
  },
  {
   "cell_type": "code",
   "execution_count": 112,
   "id": "de061372",
   "metadata": {},
   "outputs": [],
   "source": [
    "#knn_basic=model_dev(x,y,.7,knn)"
   ]
  },
  {
   "cell_type": "code",
   "execution_count": 113,
   "id": "01d14744",
   "metadata": {},
   "outputs": [],
   "source": [
    "dt=DecisionTreeClassifier(max_depth=12)\n",
    "dt_basic=model_dev(x,y,.7,dt)"
   ]
  },
  {
   "cell_type": "code",
   "execution_count": 114,
   "id": "2f45a8fd",
   "metadata": {},
   "outputs": [
    {
     "data": {
      "text/plain": [
       "{'Accuracy_train': 0.6683956043956044,\n",
       " 'Accuracy_test': 0.6354861315188644,\n",
       " 'Recall_train': 0.6567727761631234,\n",
       " 'Recall_test': 0.6339090650808735,\n",
       " 'Precision_train': 0.8813918491446823,\n",
       " 'Precision_test': 0.8546201394759088}"
      ]
     },
     "execution_count": 114,
     "metadata": {},
     "output_type": "execute_result"
    }
   ],
   "source": [
    "dt_basic"
   ]
  },
  {
   "cell_type": "code",
   "execution_count": 115,
   "id": "c58db8f9",
   "metadata": {},
   "outputs": [],
   "source": [
    "rf= RandomForestClassifier(max_depth=12)\n",
    "rf_basic= model_dev(x,y,.7,rf)"
   ]
  },
  {
   "cell_type": "code",
   "execution_count": 116,
   "id": "4c5acac6",
   "metadata": {},
   "outputs": [
    {
     "data": {
      "text/plain": [
       "{'Accuracy_train': 0.6847648351648352,\n",
       " 'Accuracy_test': 0.6459976942378551,\n",
       " 'Recall_train': 0.6674295129989015,\n",
       " 'Recall_test': 0.6413698090926983,\n",
       " 'Precision_train': 0.8956727373237923,\n",
       " 'Precision_test': 0.8608410819949281}"
      ]
     },
     "execution_count": 116,
     "metadata": {},
     "output_type": "execute_result"
    }
   ],
   "source": [
    "rf_basic"
   ]
  },
  {
   "cell_type": "code",
   "execution_count": 117,
   "id": "d3b3f7e3",
   "metadata": {},
   "outputs": [],
   "source": [
    "ad=AdaBoostClassifier()\n",
    "ad_basic=model_dev(x,y,.7,ad)"
   ]
  },
  {
   "cell_type": "code",
   "execution_count": 118,
   "id": "d2beb1ba",
   "metadata": {},
   "outputs": [
    {
     "data": {
      "text/plain": [
       "{'Accuracy_train': 0.6450813186813187,\n",
       " 'Accuracy_test': 0.6461860734980521,\n",
       " 'Recall_train': 0.6432656463451342,\n",
       " 'Recall_test': 0.6432392584253992,\n",
       " 'Precision_train': 0.8532293234237278,\n",
       " 'Precision_test': 0.8528238588334742}"
      ]
     },
     "execution_count": 118,
     "metadata": {},
     "output_type": "execute_result"
    }
   ],
   "source": [
    "ad_basic"
   ]
  },
  {
   "cell_type": "code",
   "execution_count": 120,
   "id": "203652ea",
   "metadata": {},
   "outputs": [
    {
     "data": {
      "text/plain": [
       "{'Accuracy_train': 0.6837626373626373,\n",
       " 'Accuracy_test': 0.6427801764736909,\n",
       " 'Recall_train': 0.6766452551205915,\n",
       " 'Recall_test': 0.6475894505219468,\n",
       " 'Precision_train': 0.857313964558828,\n",
       " 'Precision_test': 0.8201870245139475}"
      ]
     },
     "execution_count": 120,
     "metadata": {},
     "output_type": "execute_result"
    }
   ],
   "source": [
    "xg=XGBClassifier(use_label_encoder=False)\n",
    "xg_basic=model_dev(x,y,.7,xg)\n",
    "xg_basic"
   ]
  },
  {
   "cell_type": "markdown",
   "id": "42228712",
   "metadata": {},
   "source": [
    "#### Hyperparameter Tuning  (The parameters which are under our control)"
   ]
  },
  {
   "cell_type": "code",
   "execution_count": 121,
   "id": "a422f8d4",
   "metadata": {},
   "outputs": [],
   "source": [
    "x_train,x_test,y_train,y_test=train_test_split(x,y,test_size=.6,random_state=0)"
   ]
  },
  {
   "cell_type": "code",
   "execution_count": 124,
   "id": "90695163",
   "metadata": {},
   "outputs": [
    {
     "name": "stderr",
     "output_type": "stream",
     "text": [
      "C:\\Users\\riama\\anaconda3\\lib\\site-packages\\sklearn\\model_selection\\_validation.py:378: FitFailedWarning: \n",
      "15 fits failed out of a total of 45.\n",
      "The score on these train-test partitions for these parameters will be set to nan.\n",
      "If these failures are not expected, you can try to debug them by setting error_score='raise'.\n",
      "\n",
      "Below are more details about the failures:\n",
      "--------------------------------------------------------------------------------\n",
      "15 fits failed with the following error:\n",
      "Traceback (most recent call last):\n",
      "  File \"C:\\Users\\riama\\anaconda3\\lib\\site-packages\\sklearn\\model_selection\\_validation.py\", line 686, in _fit_and_score\n",
      "    estimator.fit(X_train, y_train, **fit_params)\n",
      "  File \"C:\\Users\\riama\\anaconda3\\lib\\site-packages\\sklearn\\linear_model\\_logistic.py\", line 1101, in fit\n",
      "    raise ValueError(\n",
      "ValueError: l1_ratio must be between 0 and 1; got (l1_ratio=None)\n",
      "\n",
      "  warnings.warn(some_fits_failed_message, FitFailedWarning)\n",
      "C:\\Users\\riama\\anaconda3\\lib\\site-packages\\sklearn\\model_selection\\_search.py:953: UserWarning: One or more of the test scores are non-finite: [0.63359449 0.63369998        nan 0.63372636 0.63376592        nan\n",
      " 0.63376592 0.63376592        nan]\n",
      "  warnings.warn(\n"
     ]
    },
    {
     "data": {
      "text/html": [
       "<style>#sk-container-id-2 {color: black;background-color: white;}#sk-container-id-2 pre{padding: 0;}#sk-container-id-2 div.sk-toggleable {background-color: white;}#sk-container-id-2 label.sk-toggleable__label {cursor: pointer;display: block;width: 100%;margin-bottom: 0;padding: 0.3em;box-sizing: border-box;text-align: center;}#sk-container-id-2 label.sk-toggleable__label-arrow:before {content: \"▸\";float: left;margin-right: 0.25em;color: #696969;}#sk-container-id-2 label.sk-toggleable__label-arrow:hover:before {color: black;}#sk-container-id-2 div.sk-estimator:hover label.sk-toggleable__label-arrow:before {color: black;}#sk-container-id-2 div.sk-toggleable__content {max-height: 0;max-width: 0;overflow: hidden;text-align: left;background-color: #f0f8ff;}#sk-container-id-2 div.sk-toggleable__content pre {margin: 0.2em;color: black;border-radius: 0.25em;background-color: #f0f8ff;}#sk-container-id-2 input.sk-toggleable__control:checked~div.sk-toggleable__content {max-height: 200px;max-width: 100%;overflow: auto;}#sk-container-id-2 input.sk-toggleable__control:checked~label.sk-toggleable__label-arrow:before {content: \"▾\";}#sk-container-id-2 div.sk-estimator input.sk-toggleable__control:checked~label.sk-toggleable__label {background-color: #d4ebff;}#sk-container-id-2 div.sk-label input.sk-toggleable__control:checked~label.sk-toggleable__label {background-color: #d4ebff;}#sk-container-id-2 input.sk-hidden--visually {border: 0;clip: rect(1px 1px 1px 1px);clip: rect(1px, 1px, 1px, 1px);height: 1px;margin: -1px;overflow: hidden;padding: 0;position: absolute;width: 1px;}#sk-container-id-2 div.sk-estimator {font-family: monospace;background-color: #f0f8ff;border: 1px dotted black;border-radius: 0.25em;box-sizing: border-box;margin-bottom: 0.5em;}#sk-container-id-2 div.sk-estimator:hover {background-color: #d4ebff;}#sk-container-id-2 div.sk-parallel-item::after {content: \"\";width: 100%;border-bottom: 1px solid gray;flex-grow: 1;}#sk-container-id-2 div.sk-label:hover label.sk-toggleable__label {background-color: #d4ebff;}#sk-container-id-2 div.sk-serial::before {content: \"\";position: absolute;border-left: 1px solid gray;box-sizing: border-box;top: 0;bottom: 0;left: 50%;z-index: 0;}#sk-container-id-2 div.sk-serial {display: flex;flex-direction: column;align-items: center;background-color: white;padding-right: 0.2em;padding-left: 0.2em;position: relative;}#sk-container-id-2 div.sk-item {position: relative;z-index: 1;}#sk-container-id-2 div.sk-parallel {display: flex;align-items: stretch;justify-content: center;background-color: white;position: relative;}#sk-container-id-2 div.sk-item::before, #sk-container-id-2 div.sk-parallel-item::before {content: \"\";position: absolute;border-left: 1px solid gray;box-sizing: border-box;top: 0;bottom: 0;left: 50%;z-index: -1;}#sk-container-id-2 div.sk-parallel-item {display: flex;flex-direction: column;z-index: 1;position: relative;background-color: white;}#sk-container-id-2 div.sk-parallel-item:first-child::after {align-self: flex-end;width: 50%;}#sk-container-id-2 div.sk-parallel-item:last-child::after {align-self: flex-start;width: 50%;}#sk-container-id-2 div.sk-parallel-item:only-child::after {width: 0;}#sk-container-id-2 div.sk-dashed-wrapped {border: 1px dashed gray;margin: 0 0.4em 0.5em 0.4em;box-sizing: border-box;padding-bottom: 0.4em;background-color: white;}#sk-container-id-2 div.sk-label label {font-family: monospace;font-weight: bold;display: inline-block;line-height: 1.2em;}#sk-container-id-2 div.sk-label-container {text-align: center;}#sk-container-id-2 div.sk-container {/* jupyter's `normalize.less` sets `[hidden] { display: none; }` but bootstrap.min.css set `[hidden] { display: none !important; }` so we also need the `!important` here to be able to override the default hidden behavior on the sphinx rendered scikit-learn.org. See: https://github.com/scikit-learn/scikit-learn/issues/21755 */display: inline-block !important;position: relative;}#sk-container-id-2 div.sk-text-repr-fallback {display: none;}</style><div id=\"sk-container-id-2\" class=\"sk-top-container\"><div class=\"sk-text-repr-fallback\"><pre>GridSearchCV(cv=5,\n",
       "             estimator=LogisticRegression(max_iter=1000000, solver=&#x27;saga&#x27;),\n",
       "             param_grid={&#x27;C&#x27;: [1, 10, 100],\n",
       "                         &#x27;penalty&#x27;: [&#x27;l1&#x27;, &#x27;l2&#x27;, &#x27;elasticnet&#x27;]})</pre><b>In a Jupyter environment, please rerun this cell to show the HTML representation or trust the notebook. <br />On GitHub, the HTML representation is unable to render, please try loading this page with nbviewer.org.</b></div><div class=\"sk-container\" hidden><div class=\"sk-item sk-dashed-wrapped\"><div class=\"sk-label-container\"><div class=\"sk-label sk-toggleable\"><input class=\"sk-toggleable__control sk-hidden--visually\" id=\"sk-estimator-id-4\" type=\"checkbox\" ><label for=\"sk-estimator-id-4\" class=\"sk-toggleable__label sk-toggleable__label-arrow\">GridSearchCV</label><div class=\"sk-toggleable__content\"><pre>GridSearchCV(cv=5,\n",
       "             estimator=LogisticRegression(max_iter=1000000, solver=&#x27;saga&#x27;),\n",
       "             param_grid={&#x27;C&#x27;: [1, 10, 100],\n",
       "                         &#x27;penalty&#x27;: [&#x27;l1&#x27;, &#x27;l2&#x27;, &#x27;elasticnet&#x27;]})</pre></div></div></div><div class=\"sk-parallel\"><div class=\"sk-parallel-item\"><div class=\"sk-item\"><div class=\"sk-label-container\"><div class=\"sk-label sk-toggleable\"><input class=\"sk-toggleable__control sk-hidden--visually\" id=\"sk-estimator-id-5\" type=\"checkbox\" ><label for=\"sk-estimator-id-5\" class=\"sk-toggleable__label sk-toggleable__label-arrow\">estimator: LogisticRegression</label><div class=\"sk-toggleable__content\"><pre>LogisticRegression(max_iter=1000000, solver=&#x27;saga&#x27;)</pre></div></div></div><div class=\"sk-serial\"><div class=\"sk-item\"><div class=\"sk-estimator sk-toggleable\"><input class=\"sk-toggleable__control sk-hidden--visually\" id=\"sk-estimator-id-6\" type=\"checkbox\" ><label for=\"sk-estimator-id-6\" class=\"sk-toggleable__label sk-toggleable__label-arrow\">LogisticRegression</label><div class=\"sk-toggleable__content\"><pre>LogisticRegression(max_iter=1000000, solver=&#x27;saga&#x27;)</pre></div></div></div></div></div></div></div></div></div></div>"
      ],
      "text/plain": [
       "GridSearchCV(cv=5,\n",
       "             estimator=LogisticRegression(max_iter=1000000, solver='saga'),\n",
       "             param_grid={'C': [1, 10, 100],\n",
       "                         'penalty': ['l1', 'l2', 'elasticnet']})"
      ]
     },
     "execution_count": 124,
     "metadata": {},
     "output_type": "execute_result"
    }
   ],
   "source": [
    "param={\"penalty\":[\"l1\",\"l2\",\"elasticnet\"],\n",
    "      \"C\":[1,10,100]}\n",
    "lg=LogisticRegression(solver=\"saga\",max_iter=1000000)\n",
    "g_lg=GridSearchCV(lg,param_grid=param,cv=5)\n",
    "g_lg.fit(x_train,y_train)"
   ]
  },
  {
   "cell_type": "code",
   "execution_count": 125,
   "id": "ff48a2ae",
   "metadata": {},
   "outputs": [
    {
     "data": {
      "text/plain": [
       "{'C': 10, 'penalty': 'l2'}"
      ]
     },
     "execution_count": 125,
     "metadata": {},
     "output_type": "execute_result"
    }
   ],
   "source": [
    "g_lg.best_params_"
   ]
  },
  {
   "cell_type": "code",
   "execution_count": 126,
   "id": "7c92fc11",
   "metadata": {},
   "outputs": [],
   "source": [
    "lg=LogisticRegression(C=10, penalty=\"l2\")"
   ]
  },
  {
   "cell_type": "code",
   "execution_count": 127,
   "id": "0e3e158f",
   "metadata": {},
   "outputs": [
    {
     "name": "stderr",
     "output_type": "stream",
     "text": [
      "C:\\Users\\riama\\anaconda3\\lib\\site-packages\\sklearn\\linear_model\\_logistic.py:444: ConvergenceWarning: lbfgs failed to converge (status=1):\n",
      "STOP: TOTAL NO. of ITERATIONS REACHED LIMIT.\n",
      "\n",
      "Increase the number of iterations (max_iter) or scale the data as shown in:\n",
      "    https://scikit-learn.org/stable/modules/preprocessing.html\n",
      "Please also refer to the documentation for alternative solver options:\n",
      "    https://scikit-learn.org/stable/modules/linear_model.html#logistic-regression\n",
      "  n_iter_i = _check_optimize_result(\n"
     ]
    }
   ],
   "source": [
    "log_params=model_dev(x,y,.5,lg)"
   ]
  },
  {
   "cell_type": "code",
   "execution_count": 128,
   "id": "262a1116",
   "metadata": {},
   "outputs": [
    {
     "data": {
      "text/html": [
       "<div>\n",
       "<style scoped>\n",
       "    .dataframe tbody tr th:only-of-type {\n",
       "        vertical-align: middle;\n",
       "    }\n",
       "\n",
       "    .dataframe tbody tr th {\n",
       "        vertical-align: top;\n",
       "    }\n",
       "\n",
       "    .dataframe thead th {\n",
       "        text-align: right;\n",
       "    }\n",
       "</style>\n",
       "<table border=\"1\" class=\"dataframe\">\n",
       "  <thead>\n",
       "    <tr style=\"text-align: right;\">\n",
       "      <th></th>\n",
       "      <th>Metrics</th>\n",
       "      <th>Logistic</th>\n",
       "    </tr>\n",
       "  </thead>\n",
       "  <tbody>\n",
       "    <tr>\n",
       "      <th>0</th>\n",
       "      <td>Accuracy_train</td>\n",
       "      <td>0.633043</td>\n",
       "    </tr>\n",
       "    <tr>\n",
       "      <th>1</th>\n",
       "      <td>Accuracy_test</td>\n",
       "      <td>0.633327</td>\n",
       "    </tr>\n",
       "    <tr>\n",
       "      <th>2</th>\n",
       "      <td>Recall_train</td>\n",
       "      <td>0.644796</td>\n",
       "    </tr>\n",
       "    <tr>\n",
       "      <th>3</th>\n",
       "      <td>Recall_test</td>\n",
       "      <td>0.642886</td>\n",
       "    </tr>\n",
       "    <tr>\n",
       "      <th>4</th>\n",
       "      <td>Precision_train</td>\n",
       "      <td>0.798529</td>\n",
       "    </tr>\n",
       "    <tr>\n",
       "      <th>5</th>\n",
       "      <td>Precision_test</td>\n",
       "      <td>0.802617</td>\n",
       "    </tr>\n",
       "  </tbody>\n",
       "</table>\n",
       "</div>"
      ],
      "text/plain": [
       "           Metrics  Logistic\n",
       "0   Accuracy_train  0.633043\n",
       "1    Accuracy_test  0.633327\n",
       "2     Recall_train  0.644796\n",
       "3      Recall_test  0.642886\n",
       "4  Precision_train  0.798529\n",
       "5   Precision_test  0.802617"
      ]
     },
     "execution_count": 128,
     "metadata": {},
     "output_type": "execute_result"
    }
   ],
   "source": [
    "gh= pd.DataFrame(log_params.items())\n",
    "gh.columns=[\"Metrics\",\"Logistic\"]\n",
    "gh"
   ]
  },
  {
   "cell_type": "code",
   "execution_count": 129,
   "id": "2b7405a5",
   "metadata": {},
   "outputs": [
    {
     "data": {
      "text/html": [
       "<style>#sk-container-id-3 {color: black;background-color: white;}#sk-container-id-3 pre{padding: 0;}#sk-container-id-3 div.sk-toggleable {background-color: white;}#sk-container-id-3 label.sk-toggleable__label {cursor: pointer;display: block;width: 100%;margin-bottom: 0;padding: 0.3em;box-sizing: border-box;text-align: center;}#sk-container-id-3 label.sk-toggleable__label-arrow:before {content: \"▸\";float: left;margin-right: 0.25em;color: #696969;}#sk-container-id-3 label.sk-toggleable__label-arrow:hover:before {color: black;}#sk-container-id-3 div.sk-estimator:hover label.sk-toggleable__label-arrow:before {color: black;}#sk-container-id-3 div.sk-toggleable__content {max-height: 0;max-width: 0;overflow: hidden;text-align: left;background-color: #f0f8ff;}#sk-container-id-3 div.sk-toggleable__content pre {margin: 0.2em;color: black;border-radius: 0.25em;background-color: #f0f8ff;}#sk-container-id-3 input.sk-toggleable__control:checked~div.sk-toggleable__content {max-height: 200px;max-width: 100%;overflow: auto;}#sk-container-id-3 input.sk-toggleable__control:checked~label.sk-toggleable__label-arrow:before {content: \"▾\";}#sk-container-id-3 div.sk-estimator input.sk-toggleable__control:checked~label.sk-toggleable__label {background-color: #d4ebff;}#sk-container-id-3 div.sk-label input.sk-toggleable__control:checked~label.sk-toggleable__label {background-color: #d4ebff;}#sk-container-id-3 input.sk-hidden--visually {border: 0;clip: rect(1px 1px 1px 1px);clip: rect(1px, 1px, 1px, 1px);height: 1px;margin: -1px;overflow: hidden;padding: 0;position: absolute;width: 1px;}#sk-container-id-3 div.sk-estimator {font-family: monospace;background-color: #f0f8ff;border: 1px dotted black;border-radius: 0.25em;box-sizing: border-box;margin-bottom: 0.5em;}#sk-container-id-3 div.sk-estimator:hover {background-color: #d4ebff;}#sk-container-id-3 div.sk-parallel-item::after {content: \"\";width: 100%;border-bottom: 1px solid gray;flex-grow: 1;}#sk-container-id-3 div.sk-label:hover label.sk-toggleable__label {background-color: #d4ebff;}#sk-container-id-3 div.sk-serial::before {content: \"\";position: absolute;border-left: 1px solid gray;box-sizing: border-box;top: 0;bottom: 0;left: 50%;z-index: 0;}#sk-container-id-3 div.sk-serial {display: flex;flex-direction: column;align-items: center;background-color: white;padding-right: 0.2em;padding-left: 0.2em;position: relative;}#sk-container-id-3 div.sk-item {position: relative;z-index: 1;}#sk-container-id-3 div.sk-parallel {display: flex;align-items: stretch;justify-content: center;background-color: white;position: relative;}#sk-container-id-3 div.sk-item::before, #sk-container-id-3 div.sk-parallel-item::before {content: \"\";position: absolute;border-left: 1px solid gray;box-sizing: border-box;top: 0;bottom: 0;left: 50%;z-index: -1;}#sk-container-id-3 div.sk-parallel-item {display: flex;flex-direction: column;z-index: 1;position: relative;background-color: white;}#sk-container-id-3 div.sk-parallel-item:first-child::after {align-self: flex-end;width: 50%;}#sk-container-id-3 div.sk-parallel-item:last-child::after {align-self: flex-start;width: 50%;}#sk-container-id-3 div.sk-parallel-item:only-child::after {width: 0;}#sk-container-id-3 div.sk-dashed-wrapped {border: 1px dashed gray;margin: 0 0.4em 0.5em 0.4em;box-sizing: border-box;padding-bottom: 0.4em;background-color: white;}#sk-container-id-3 div.sk-label label {font-family: monospace;font-weight: bold;display: inline-block;line-height: 1.2em;}#sk-container-id-3 div.sk-label-container {text-align: center;}#sk-container-id-3 div.sk-container {/* jupyter's `normalize.less` sets `[hidden] { display: none; }` but bootstrap.min.css set `[hidden] { display: none !important; }` so we also need the `!important` here to be able to override the default hidden behavior on the sphinx rendered scikit-learn.org. See: https://github.com/scikit-learn/scikit-learn/issues/21755 */display: inline-block !important;position: relative;}#sk-container-id-3 div.sk-text-repr-fallback {display: none;}</style><div id=\"sk-container-id-3\" class=\"sk-top-container\"><div class=\"sk-text-repr-fallback\"><pre>GridSearchCV(cv=5, estimator=DecisionTreeClassifier(),\n",
       "             param_grid={&#x27;max_depth&#x27;: [7, 9, 11],\n",
       "                         &#x27;min_samples_split&#x27;: [10, 100, 200]})</pre><b>In a Jupyter environment, please rerun this cell to show the HTML representation or trust the notebook. <br />On GitHub, the HTML representation is unable to render, please try loading this page with nbviewer.org.</b></div><div class=\"sk-container\" hidden><div class=\"sk-item sk-dashed-wrapped\"><div class=\"sk-label-container\"><div class=\"sk-label sk-toggleable\"><input class=\"sk-toggleable__control sk-hidden--visually\" id=\"sk-estimator-id-7\" type=\"checkbox\" ><label for=\"sk-estimator-id-7\" class=\"sk-toggleable__label sk-toggleable__label-arrow\">GridSearchCV</label><div class=\"sk-toggleable__content\"><pre>GridSearchCV(cv=5, estimator=DecisionTreeClassifier(),\n",
       "             param_grid={&#x27;max_depth&#x27;: [7, 9, 11],\n",
       "                         &#x27;min_samples_split&#x27;: [10, 100, 200]})</pre></div></div></div><div class=\"sk-parallel\"><div class=\"sk-parallel-item\"><div class=\"sk-item\"><div class=\"sk-label-container\"><div class=\"sk-label sk-toggleable\"><input class=\"sk-toggleable__control sk-hidden--visually\" id=\"sk-estimator-id-8\" type=\"checkbox\" ><label for=\"sk-estimator-id-8\" class=\"sk-toggleable__label sk-toggleable__label-arrow\">estimator: DecisionTreeClassifier</label><div class=\"sk-toggleable__content\"><pre>DecisionTreeClassifier()</pre></div></div></div><div class=\"sk-serial\"><div class=\"sk-item\"><div class=\"sk-estimator sk-toggleable\"><input class=\"sk-toggleable__control sk-hidden--visually\" id=\"sk-estimator-id-9\" type=\"checkbox\" ><label for=\"sk-estimator-id-9\" class=\"sk-toggleable__label sk-toggleable__label-arrow\">DecisionTreeClassifier</label><div class=\"sk-toggleable__content\"><pre>DecisionTreeClassifier()</pre></div></div></div></div></div></div></div></div></div></div>"
      ],
      "text/plain": [
       "GridSearchCV(cv=5, estimator=DecisionTreeClassifier(),\n",
       "             param_grid={'max_depth': [7, 9, 11],\n",
       "                         'min_samples_split': [10, 100, 200]})"
      ]
     },
     "execution_count": 129,
     "metadata": {},
     "output_type": "execute_result"
    }
   ],
   "source": [
    "param={\"max_depth\":[7,9,11],\n",
    "      \"min_samples_split\":[10,100,200]}\n",
    "dt=DecisionTreeClassifier()\n",
    "dt_lg=GridSearchCV(dt,param_grid=param,cv=5)\n",
    "dt_lg.fit(x_train,y_train)"
   ]
  },
  {
   "cell_type": "code",
   "execution_count": 130,
   "id": "180888b0",
   "metadata": {},
   "outputs": [
    {
     "data": {
      "text/plain": [
       "{'max_depth': 11, 'min_samples_split': 200}"
      ]
     },
     "execution_count": 130,
     "metadata": {},
     "output_type": "execute_result"
    }
   ],
   "source": [
    "dt_lg.best_params_"
   ]
  },
  {
   "cell_type": "code",
   "execution_count": 131,
   "id": "33336dc1",
   "metadata": {},
   "outputs": [
    {
     "data": {
      "text/html": [
       "<div>\n",
       "<style scoped>\n",
       "    .dataframe tbody tr th:only-of-type {\n",
       "        vertical-align: middle;\n",
       "    }\n",
       "\n",
       "    .dataframe tbody tr th {\n",
       "        vertical-align: top;\n",
       "    }\n",
       "\n",
       "    .dataframe thead th {\n",
       "        text-align: right;\n",
       "    }\n",
       "</style>\n",
       "<table border=\"1\" class=\"dataframe\">\n",
       "  <thead>\n",
       "    <tr style=\"text-align: right;\">\n",
       "      <th></th>\n",
       "      <th>Metrics</th>\n",
       "      <th>Decision</th>\n",
       "    </tr>\n",
       "  </thead>\n",
       "  <tbody>\n",
       "    <tr>\n",
       "      <th>0</th>\n",
       "      <td>Accuracy_train</td>\n",
       "      <td>0.649679</td>\n",
       "    </tr>\n",
       "    <tr>\n",
       "      <th>1</th>\n",
       "      <td>Accuracy_test</td>\n",
       "      <td>0.641429</td>\n",
       "    </tr>\n",
       "    <tr>\n",
       "      <th>2</th>\n",
       "      <td>Recall_train</td>\n",
       "      <td>0.646610</td>\n",
       "    </tr>\n",
       "    <tr>\n",
       "      <th>3</th>\n",
       "      <td>Recall_test</td>\n",
       "      <td>0.639835</td>\n",
       "    </tr>\n",
       "    <tr>\n",
       "      <th>4</th>\n",
       "      <td>Precision_train</td>\n",
       "      <td>0.854986</td>\n",
       "    </tr>\n",
       "    <tr>\n",
       "      <th>5</th>\n",
       "      <td>Precision_test</td>\n",
       "      <td>0.848752</td>\n",
       "    </tr>\n",
       "  </tbody>\n",
       "</table>\n",
       "</div>"
      ],
      "text/plain": [
       "           Metrics  Decision\n",
       "0   Accuracy_train  0.649679\n",
       "1    Accuracy_test  0.641429\n",
       "2     Recall_train  0.646610\n",
       "3      Recall_test  0.639835\n",
       "4  Precision_train  0.854986\n",
       "5   Precision_test  0.848752"
      ]
     },
     "execution_count": 131,
     "metadata": {},
     "output_type": "execute_result"
    }
   ],
   "source": [
    "dt=DecisionTreeClassifier(max_depth=11,min_samples_split=200)\n",
    "params=model_dev(x,y,.5,dt)\n",
    "gh1=pd.DataFrame(params.items())\n",
    "gh1.columns=[\"Metrics\",\"Decision\"]\n",
    "gh1"
   ]
  },
  {
   "cell_type": "code",
   "execution_count": 133,
   "id": "7f164701",
   "metadata": {},
   "outputs": [
    {
     "data": {
      "text/html": [
       "<div>\n",
       "<style scoped>\n",
       "    .dataframe tbody tr th:only-of-type {\n",
       "        vertical-align: middle;\n",
       "    }\n",
       "\n",
       "    .dataframe tbody tr th {\n",
       "        vertical-align: top;\n",
       "    }\n",
       "\n",
       "    .dataframe thead th {\n",
       "        text-align: right;\n",
       "    }\n",
       "</style>\n",
       "<table border=\"1\" class=\"dataframe\">\n",
       "  <thead>\n",
       "    <tr style=\"text-align: right;\">\n",
       "      <th></th>\n",
       "      <th>Metrics</th>\n",
       "      <th>Logistic</th>\n",
       "      <th>Decision</th>\n",
       "    </tr>\n",
       "  </thead>\n",
       "  <tbody>\n",
       "    <tr>\n",
       "      <th>0</th>\n",
       "      <td>Accuracy_train</td>\n",
       "      <td>0.633043</td>\n",
       "      <td>0.649679</td>\n",
       "    </tr>\n",
       "    <tr>\n",
       "      <th>1</th>\n",
       "      <td>Accuracy_test</td>\n",
       "      <td>0.633327</td>\n",
       "      <td>0.641429</td>\n",
       "    </tr>\n",
       "    <tr>\n",
       "      <th>2</th>\n",
       "      <td>Recall_train</td>\n",
       "      <td>0.644796</td>\n",
       "      <td>0.646610</td>\n",
       "    </tr>\n",
       "    <tr>\n",
       "      <th>3</th>\n",
       "      <td>Recall_test</td>\n",
       "      <td>0.642886</td>\n",
       "      <td>0.639835</td>\n",
       "    </tr>\n",
       "    <tr>\n",
       "      <th>4</th>\n",
       "      <td>Precision_train</td>\n",
       "      <td>0.798529</td>\n",
       "      <td>0.854986</td>\n",
       "    </tr>\n",
       "    <tr>\n",
       "      <th>5</th>\n",
       "      <td>Precision_test</td>\n",
       "      <td>0.802617</td>\n",
       "      <td>0.848752</td>\n",
       "    </tr>\n",
       "  </tbody>\n",
       "</table>\n",
       "</div>"
      ],
      "text/plain": [
       "           Metrics  Logistic  Decision\n",
       "0   Accuracy_train  0.633043  0.649679\n",
       "1    Accuracy_test  0.633327  0.641429\n",
       "2     Recall_train  0.644796  0.646610\n",
       "3      Recall_test  0.642886  0.639835\n",
       "4  Precision_train  0.798529  0.854986\n",
       "5   Precision_test  0.802617  0.848752"
      ]
     },
     "execution_count": 133,
     "metadata": {},
     "output_type": "execute_result"
    }
   ],
   "source": [
    "pd.merge(gh,gh1,on=\"Metrics\",how=\"inner\")"
   ]
  },
  {
   "cell_type": "code",
   "execution_count": null,
   "id": "84b2a53f",
   "metadata": {},
   "outputs": [],
   "source": []
  }
 ],
 "metadata": {
  "kernelspec": {
   "display_name": "Python 3 (ipykernel)",
   "language": "python",
   "name": "python3"
  },
  "language_info": {
   "codemirror_mode": {
    "name": "ipython",
    "version": 3
   },
   "file_extension": ".py",
   "mimetype": "text/x-python",
   "name": "python",
   "nbconvert_exporter": "python",
   "pygments_lexer": "ipython3",
   "version": "3.9.12"
  }
 },
 "nbformat": 4,
 "nbformat_minor": 5
}
